{
 "cells": [
  {
   "cell_type": "markdown",
   "id": "67308526",
   "metadata": {},
   "source": [
    "# Imports"
   ]
  },
  {
   "cell_type": "code",
   "execution_count": 1,
   "id": "b7ae7f21",
   "metadata": {},
   "outputs": [],
   "source": [
    "import cv2\n",
    "from cvzone.HandTrackingModule import HandDetector\n",
    "import numpy as np\n",
    "import math\n",
    "import time\n",
    "from keras_preprocessing import image\n",
    "from tensorflow import keras\n",
    "from matplotlib import pyplot as plt\n",
    "import mediapipe as mp"
   ]
  },
  {
   "cell_type": "markdown",
   "id": "0849d1c9",
   "metadata": {},
   "source": [
    "# Loading the CNN models"
   ]
  },
  {
   "cell_type": "code",
   "execution_count": 2,
   "id": "1691fb7b",
   "metadata": {},
   "outputs": [],
   "source": [
    "rclassifier = keras.models.load_model('righthandmodel.h5')\n",
    "lclassifier = keras.models.load_model('lefthandmodel.h5')\n",
    "labels = [\"A\", \"B\", \"C\", \"D\", \"E\", \"F\", \"G\", \"H\", \"I\", \"K\", \"L\", \"M\", \"N\", \"O\", \"P\", \"Q\", \"R\", \"S\", \"T\", \"U\", \"V\", \"W\", \"X\", \"Y\"]"
   ]
  },
  {
   "cell_type": "markdown",
   "id": "a13bedf5",
   "metadata": {},
   "source": [
    "# Loading the LSTM Model"
   ]
  },
  {
   "cell_type": "code",
   "execution_count": 3,
   "id": "7610a4c7",
   "metadata": {},
   "outputs": [],
   "source": [
    "mp_holistic = mp.solutions.holistic#Holistic Model\n",
    "mp_drawing = mp.solutions.drawing_utils#Drawing Utilities"
   ]
  },
  {
   "cell_type": "code",
   "execution_count": 4,
   "id": "e6ac04fa",
   "metadata": {},
   "outputs": [],
   "source": [
    "def mediapipe_detection(image,model):\n",
    "    image = cv2.cvtColor(image, cv2.COLOR_BGR2RGB)#Color Coversion\n",
    "    image.flags.writeable = False                 #Image no longer Writeable\n",
    "    results = model.process(image)                #Make Prediction\n",
    "    image.flags.writeable = True                  #Image Writeable\n",
    "    image = cv2.cvtColor(image, cv2.COLOR_RGB2BGR)#Color Conversion\n",
    "    return image,results\n",
    "def extract_keypoints(results):\n",
    "    pose = np.array([[res.x, res.y, res.z, res.visibility] for res in results.pose_landmarks.landmark]).flatten() if results.pose_landmarks else np.zeros(33*4)\n",
    "    face = np.array([[res.x, res.y, res.z] for res in results.face_landmarks.landmark]).flatten() if results.face_landmarks else np.zeros(468*3)\n",
    "    lh = np.array([[res.x, res.y, res.z] for res in results.left_hand_landmarks.landmark]).flatten() if results.left_hand_landmarks else np.zeros(21*3)\n",
    "    rh = np.array([[res.x, res.y, res.z] for res in results.right_hand_landmarks.landmark]).flatten() if results.right_hand_landmarks else np.zeros(21*3)\n",
    "    return np.concatenate([pose, face, lh, rh])"
   ]
  },
  {
   "cell_type": "code",
   "execution_count": 5,
   "id": "d294776d",
   "metadata": {},
   "outputs": [],
   "source": [
    "# Actions that we try to detect\n",
    "actions = np.array(['hello', 'thanks', 'iloveyou'])\n",
    "model = keras.models.load_model('action.h5')"
   ]
  },
  {
   "cell_type": "markdown",
   "id": "2a6a3fc3",
   "metadata": {},
   "source": [
    "# Running Program"
   ]
  },
  {
   "cell_type": "code",
   "execution_count": 6,
   "id": "7a8a6e4e",
   "metadata": {},
   "outputs": [],
   "source": [
    "labels = [\"A\", \"B\", \"C\", \"D\", \"E\", \"F\", \"G\", \"H\", \"I\", \"K\", \"L\", \"M\", \"N\", \"O\", \"P\", \"Q\", \"R\", \"S\", \"T\", \"U\", \"V\", \"W\", \"X\", \"Y\"]\n",
    "\n",
    "cap = cv2.VideoCapture(0)\n",
    "detector = HandDetector(maxHands=2)\n",
    "\n",
    "offset = 20\n",
    "imgSize = 300\n",
    "\n",
    "while True:\n",
    "    success, img = cap.read()\n",
    "    hands, img = detector.findHands(img)\n",
    "    if hands:\n",
    "        for hand in hands:\n",
    "            x,y,w,h = hand['bbox']\n",
    "            if hand[\"type\"]==\"Right\":\n",
    "                classifier = rclassifier\n",
    "            else:\n",
    "                classifier = lclassifier\n",
    "\n",
    "            imgWhite = np.ones((imgSize,imgSize, 3),np.uint8)*255\n",
    "            imgCrop = img[y-offset:y+h+offset, x-offset:x+w+offset]\n",
    "\n",
    "            aspectRatio = h/w\n",
    "            try:\n",
    "                if aspectRatio < 1:\n",
    "                    k = imgSize/w\n",
    "                    hCal = math.ceil(k*h)\n",
    "                    imgResize = cv2.resize(imgCrop, (imgSize, hCal))\n",
    "                    hGap = math.ceil((imgSize-hCal)/2)\n",
    "                    imgWhite[hGap:hCal+hGap,:] = imgResize\n",
    "                    test_image = image.img_to_array(imgWhite)\n",
    "                    test_image = np.expand_dims(test_image, axis=0)\n",
    "                    result = classifier.predict(test_image)\n",
    "                    cv2.rectangle(img, (x-offset,y+h+offset), (x+w+offset,y+h+50), (0,0,0), -1)\n",
    "                    cv2.putText(img, ' '.join(labels[np.argmax(result[0])]), (x+10,y+h+45), \n",
    "                           cv2.FONT_HERSHEY_SIMPLEX, 1, (255, 255, 255), 2, cv2.LINE_AA)\n",
    "                else:\n",
    "                    k = imgSize/h\n",
    "                    wCal = math.ceil(k*w)\n",
    "                    imgResize = cv2.resize(imgCrop, (wCal,imgSize))\n",
    "                    wGap = math.ceil((imgSize-wCal)/2)\n",
    "                    imgWhite[:,wGap:wCal+wGap] = imgResize\n",
    "                    test_image = image.img_to_array(imgWhite)\n",
    "                    test_image = np.expand_dims(test_image, axis=0)\n",
    "                    result = classifier.predict(test_image)\n",
    "                    cv2.rectangle(img, (x-offset,y+h+offset), (x+w+offset,y+h+50), (0,0,0), -1)\n",
    "                    cv2.putText(img, ' '.join(labels[np.argmax(result[0])]), (x+10,y+h+45), \n",
    "                           cv2.FONT_HERSHEY_SIMPLEX, 1, (255, 255, 255), 2, cv2.LINE_AA)\n",
    "            except:\n",
    "                pass\n",
    "    cv2.imshow(\"Maurj Feed\", img)\n",
    "    wKey = cv2.waitKey(1)\n",
    "    if wKey & 0xFF == ord('q'):\n",
    "            break\n",
    "cap.release()\n",
    "cv2.destroyAllWindows()"
   ]
  },
  {
   "cell_type": "code",
   "execution_count": 27,
   "id": "774ddb97",
   "metadata": {},
   "outputs": [],
   "source": [
    "cap.release()\n",
    "cv2.destroyAllWindows()"
   ]
  },
  {
   "cell_type": "code",
   "execution_count": 7,
   "id": "cc58ee9f",
   "metadata": {},
   "outputs": [],
   "source": [
    "sequence = []\n",
    "sentence = []\n",
    "predictions = []\n",
    "threshold = 0.5\n",
    "\n",
    "cap = cv2.VideoCapture(0)\n",
    "detector = HandDetector(maxHands=2)\n",
    "\n",
    "offset = 20\n",
    "imgSize = 300\n",
    "\n",
    "with mp_holistic.Holistic(min_detection_confidence=0.5, min_tracking_confidence=0.5) as holistic:\n",
    "    while cap.isOpened():\n",
    "        success, img = cap.read()\n",
    "        #LSTM\n",
    "        img, results = mediapipe_detection(img, holistic)\n",
    "        keypoints = extract_keypoints(results)\n",
    "        sequence.append(keypoints)\n",
    "        sequence = sequence[-30:]\n",
    "        \n",
    "        if len(sequence) == 30:\n",
    "            res = model.predict(np.expand_dims(sequence, axis=0))[0]\n",
    "            predictions.append(np.argmax(res))\n",
    "            if np.unique(predictions[-10:])[0]==np.argmax(res): \n",
    "                if res[np.argmax(res)] > threshold: \n",
    "                    \n",
    "                    if len(sentence) > 0: \n",
    "                        if actions[np.argmax(res)] != sentence[-1]:\n",
    "                            sentence.append(actions[np.argmax(res)])\n",
    "                    else:\n",
    "                        sentence.append(actions[np.argmax(res)])\n",
    "\n",
    "            sentence = sentence[-1:]\n",
    "        #CNN\n",
    "        hands, img = detector.findHands(img)\n",
    "        if hands:\n",
    "            for hand in hands:\n",
    "                x,y,w,h = hand['bbox']\n",
    "                if hand[\"type\"]==\"Right\":\n",
    "                    classifier = rclassifier\n",
    "                else:\n",
    "                    classifier = lclassifier\n",
    "\n",
    "                imgWhite = np.ones((imgSize,imgSize, 3),np.uint8)*255\n",
    "                imgCrop = img[y-offset:y+h+offset, x-offset:x+w+offset]\n",
    "\n",
    "                aspectRatio = h/w\n",
    "                try:\n",
    "                    if aspectRatio < 1:\n",
    "                        k = imgSize/w\n",
    "                        hCal = math.ceil(k*h)\n",
    "                        imgResize = cv2.resize(imgCrop, (imgSize, hCal))\n",
    "                        hGap = math.ceil((imgSize-hCal)/2)\n",
    "                        imgWhite[hGap:hCal+hGap,:] = imgResize\n",
    "                        test_image = image.img_to_array(imgWhite)\n",
    "                        test_image = np.expand_dims(test_image, axis=0)\n",
    "                        result = classifier.predict(test_image)\n",
    "                        cv2.rectangle(img, (x-offset,y+h+offset), (x+w+offset,y+h+50), (0,0,0), -1)\n",
    "                        cv2.putText(img, ' '.join(labels[np.argmax(result[0])]), (x+10,y+h+45), \n",
    "                               cv2.FONT_HERSHEY_SIMPLEX, 1, (255, 255, 255), 2, cv2.LINE_AA)\n",
    "                    else:\n",
    "                        k = imgSize/h\n",
    "                        wCal = math.ceil(k*w)\n",
    "                        imgResize = cv2.resize(imgCrop, (wCal,imgSize))\n",
    "                        wGap = math.ceil((imgSize-wCal)/2)\n",
    "                        imgWhite[:,wGap:wCal+wGap] = imgResize\n",
    "                        test_image = image.img_to_array(imgWhite)\n",
    "                        test_image = np.expand_dims(test_image, axis=0)\n",
    "                        result = classifier.predict(test_image)\n",
    "                        cv2.rectangle(img, (x-offset,y+h+offset), (x+w+offset,y+h+50), (0,0,0), -1)\n",
    "                        cv2.putText(img, ' '.join(labels[np.argmax(result[0])]), (x+10,y+h+45), \n",
    "                               cv2.FONT_HERSHEY_SIMPLEX, 1, (255, 255, 255), 2, cv2.LINE_AA)\n",
    "                except:\n",
    "                    pass\n",
    "        cv2.putText(img, 'LSTM Prediction', (3,30), cv2.FONT_HERSHEY_SIMPLEX, 1, (0, 0, 0), 2, cv2.LINE_AA)\n",
    "        cv2.putText(img, ' '.join(sentence), (3,90), \n",
    "                       cv2.FONT_HERSHEY_SIMPLEX, 1, (255, 255, 255), 2, cv2.LINE_AA)\n",
    "        \n",
    "        \n",
    "        cv2.imshow(\"Maurj Feed\", img)\n",
    "        wKey = cv2.waitKey(1)\n",
    "        if wKey & 0xFF == ord('q'):\n",
    "                break\n",
    "cap.release()\n",
    "cv2.destroyAllWindows()"
   ]
  },
  {
   "cell_type": "code",
   "execution_count": null,
   "id": "77f464f4",
   "metadata": {},
   "outputs": [],
   "source": []
  }
 ],
 "metadata": {
  "kernelspec": {
   "display_name": "Python 3 (ipykernel)",
   "language": "python",
   "name": "python3"
  },
  "language_info": {
   "codemirror_mode": {
    "name": "ipython",
    "version": 3
   },
   "file_extension": ".py",
   "mimetype": "text/x-python",
   "name": "python",
   "nbconvert_exporter": "python",
   "pygments_lexer": "ipython3",
   "version": "3.9.12"
  }
 },
 "nbformat": 4,
 "nbformat_minor": 5
}
